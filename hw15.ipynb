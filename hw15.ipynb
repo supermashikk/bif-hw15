{
 "cells": [
  {
   "cell_type": "markdown",
   "metadata": {},
   "source": [
    "# all imports"
   ]
  },
  {
   "cell_type": "code",
   "execution_count": 1,
   "metadata": {},
   "outputs": [],
   "source": [
    "import pandas as pd\n",
    "import numpy as np\n",
    "\n",
    "from sklearn.neighbors import KNeighborsClassifier, NearestCentroid\n",
    "from sklearn.model_selection import train_test_split\n",
    "from sklearn.metrics import accuracy_score"
   ]
  },
  {
   "cell_type": "markdown",
   "metadata": {},
   "source": [
    "# task 1"
   ]
  },
  {
   "cell_type": "code",
   "execution_count": 2,
   "metadata": {},
   "outputs": [],
   "source": [
    "df = pd.read_csv('https://raw.githubusercontent.com/s-a-nersisyan/HSE_bioinformatics_2021/master/seminar15/BRCA_pam50.tsv', index_col = 0, sep = '\\t')\n",
    "\n",
    "X = df.iloc[:, :-1].to_numpy()\n",
    "y = df['Subtype'].to_numpy()"
   ]
  },
  {
   "cell_type": "markdown",
   "metadata": {},
   "source": [
    "creating train and test splits"
   ]
  },
  {
   "cell_type": "code",
   "execution_count": 3,
   "metadata": {},
   "outputs": [],
   "source": [
    "X_train, X_test, y_train, y_test = train_test_split(\n",
    "    X, y, stratify = y, random_state = 333, test_size = 0.2\n",
    ")"
   ]
  },
  {
   "cell_type": "code",
   "execution_count": 4,
   "metadata": {},
   "outputs": [
    {
     "data": {
      "text/plain": [
       "KNeighborsClassifier(n_neighbors=1)"
      ]
     },
     "execution_count": 4,
     "metadata": {},
     "output_type": "execute_result"
    }
   ],
   "source": [
    "neighbor = KNeighborsClassifier(n_neighbors = 1, p = 2) #we use Euclidean distance\n",
    "neighbor.fit(X_train, y_train)"
   ]
  },
  {
   "cell_type": "markdown",
   "metadata": {},
   "source": [
    "accuracy"
   ]
  },
  {
   "cell_type": "code",
   "execution_count": 5,
   "metadata": {},
   "outputs": [
    {
     "name": "stdout",
     "output_type": "stream",
     "text": [
      "0.8524590163934426\n"
     ]
    }
   ],
   "source": [
    "y_pred = neighbor.predict(X_test)\n",
    "print(accuracy_score(y_pred, y_test))"
   ]
  },
  {
   "cell_type": "markdown",
   "metadata": {},
   "source": [
    "# task 2"
   ]
  },
  {
   "cell_type": "code",
   "execution_count": 6,
   "metadata": {},
   "outputs": [],
   "source": [
    "def test_pred_accuracy(test, pred):\n",
    "    \n",
    "    counts_test = {}\n",
    "    for subtype in test:\n",
    "        if subtype in counts_test.keys():\n",
    "            counts_test[subtype] += 1\n",
    "        else:\n",
    "            counts_test[subtype] = 1\n",
    "    print('test: ',counts_test)\n",
    "        \n",
    "\n",
    "    counts_pred = {}\n",
    "    for i in range (len(pred)):\n",
    "        if (pred[i] in counts_pred.keys()) and (pred[i] == test[i]):\n",
    "            counts_pred[pred[i]] += 1\n",
    "        else:\n",
    "            counts_pred[pred[i]] = 1\n",
    "    print('predicted: ', counts_pred)\n",
    "    \n",
    "    for i in counts_pred.keys():\n",
    "        print(i, ': ', (counts_pred[i]/ counts_test[i]))"
   ]
  },
  {
   "cell_type": "code",
   "execution_count": 7,
   "metadata": {},
   "outputs": [
    {
     "name": "stdout",
     "output_type": "stream",
     "text": [
      "test:  {'Luminal A': 82, 'Triple-negative': 27, 'Luminal B': 37, 'Healthy': 20, 'HER2-enriched': 13, 'Normal-like': 4}\n",
      "predicted:  {'Luminal A': 15, 'Triple-negative': 9, 'Luminal B': 1, 'Healthy': 12, 'HER2-enriched': 4, 'Normal-like': 3}\n",
      "Luminal A :  0.18292682926829268\n",
      "Triple-negative :  0.3333333333333333\n",
      "Luminal B :  0.02702702702702703\n",
      "Healthy :  0.6\n",
      "HER2-enriched :  0.3076923076923077\n",
      "Normal-like :  0.75\n"
     ]
    }
   ],
   "source": [
    "test_pred_accuracy(y_test, y_pred)"
   ]
  },
  {
   "cell_type": "markdown",
   "metadata": {},
   "source": [
    "# task 3"
   ]
  },
  {
   "cell_type": "code",
   "execution_count": 8,
   "metadata": {},
   "outputs": [
    {
     "data": {
      "text/plain": [
       "NearestCentroid()"
      ]
     },
     "execution_count": 8,
     "metadata": {},
     "output_type": "execute_result"
    }
   ],
   "source": [
    "model = NearestCentroid()\n",
    "model.fit(X_train, y_train)"
   ]
  },
  {
   "cell_type": "code",
   "execution_count": 9,
   "metadata": {},
   "outputs": [
    {
     "name": "stdout",
     "output_type": "stream",
     "text": [
      "0.8415300546448088\n"
     ]
    }
   ],
   "source": [
    "y_pred = model.predict(X_test)\n",
    "print(accuracy_score(y_pred, y_test))"
   ]
  },
  {
   "cell_type": "code",
   "execution_count": 10,
   "metadata": {},
   "outputs": [
    {
     "name": "stdout",
     "output_type": "stream",
     "text": [
      "test:  {'Luminal A': 82, 'Triple-negative': 27, 'Luminal B': 37, 'Healthy': 20, 'HER2-enriched': 13, 'Normal-like': 4}\n",
      "predicted:  {'Luminal A': 57, 'Triple-negative': 27, 'Luminal B': 2, 'Healthy': 3, 'Normal-like': 3, 'HER2-enriched': 4}\n",
      "Luminal A :  0.6951219512195121\n",
      "Triple-negative :  1.0\n",
      "Luminal B :  0.05405405405405406\n",
      "Healthy :  0.15\n",
      "Normal-like :  0.75\n",
      "HER2-enriched :  0.3076923076923077\n"
     ]
    }
   ],
   "source": [
    "test_pred_accuracy(y_test, y_pred)"
   ]
  }
 ],
 "metadata": {
  "kernelspec": {
   "display_name": "Python 3",
   "language": "python",
   "name": "python3"
  },
  "language_info": {
   "codemirror_mode": {
    "name": "ipython",
    "version": 3
   },
   "file_extension": ".py",
   "mimetype": "text/x-python",
   "name": "python",
   "nbconvert_exporter": "python",
   "pygments_lexer": "ipython3",
   "version": "3.7.9"
  }
 },
 "nbformat": 4,
 "nbformat_minor": 4
}
